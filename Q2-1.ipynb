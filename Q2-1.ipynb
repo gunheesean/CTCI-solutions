{
 "cells": [
  {
   "cell_type": "markdown",
   "metadata": {},
   "source": [
    "delete duplicate characters in linked list"
   ]
  },
  {
   "cell_type": "code",
   "execution_count": 20,
   "metadata": {
    "collapsed": true
   },
   "outputs": [],
   "source": [
    "class Node:\n",
    "    \n",
    "    def __init__(self, value, nextNode=None):\n",
    "        self.value = value\n",
    "        self.next = nextNode\n",
    "    \n",
    "    def __str__(self):\n",
    "        return str(self.value)"
   ]
  },
  {
   "cell_type": "code",
   "execution_count": 24,
   "metadata": {},
   "outputs": [],
   "source": [
    "from random import randint\n",
    "class LinkedList:\n",
    "    \n",
    "    def __init__(self, values=None):\n",
    "        self.head = None\n",
    "        self.tail = None\n",
    "        if values is not None:\n",
    "            self.insert(value)\n",
    "            \n",
    "    def generate(self, n, min_value, max_value):\n",
    "        self.head = self.tail = None\n",
    "        for i in range(n):\n",
    "            self.insert(randint(min_value, max_value))\n",
    "        return self\n",
    "    \n",
    "    def __iter__(self):\n",
    "        current = self.head\n",
    "        while current:\n",
    "            yield current\n",
    "            current = current.next\n",
    "    \n",
    "    def __str__(self):\n",
    "        values = [str(x) for x in self]\n",
    "        return '->'.join(values)\n",
    "    \n",
    "    def __len__(self):\n",
    "        result = 0\n",
    "        node = self.head\n",
    "        while node:\n",
    "            result += 1\n",
    "            node = node.next\n",
    "        return result\n",
    "    \n",
    "    '''def add(self, value):\n",
    "        if self.head is None:\n",
    "            self.tail = self.head = Node(value)\n",
    "        else:\n",
    "            self.tail.next = Node(value)\n",
    "            self.tail = self.tail.next\n",
    "        return self.tail\n",
    "    '''\n",
    "    # add new node front\n",
    "    def insert(self, value):\n",
    "        if self.head is None:\n",
    "            self.tail = self.head = Node(value)\n",
    "        else:\n",
    "            self.head = Node(value, self.head)\n",
    "        "
   ]
  },
  {
   "cell_type": "code",
   "execution_count": 25,
   "metadata": {
    "collapsed": true
   },
   "outputs": [],
   "source": [
    "def delete(linked_list):\n",
    "        if linked_list is None:\n",
    "            return\n",
    "        current = linked_list.head\n",
    "        seen = set([current.value])\n",
    "        while current.next:\n",
    "            if current.next.value in seen:\n",
    "                current.next = current.next.next\n",
    "            else:\n",
    "                seen.add(current.next.value)\n",
    "                current = current.next\n",
    "        return linked_list"
   ]
  },
  {
   "cell_type": "code",
   "execution_count": 29,
   "metadata": {
    "collapsed": true
   },
   "outputs": [],
   "source": [
    "def remove_dups_followup(ll):\n",
    "    if ll.head is None:\n",
    "        return\n",
    "\n",
    "    current = ll.head\n",
    "    while current:\n",
    "        runner = current\n",
    "        while runner.next:\n",
    "            if runner.next.value == current.value:\n",
    "                runner.next = runner.next.next\n",
    "            else:\n",
    "                runner = runner.next\n",
    "        current = current.next\n",
    "\n",
    "    return ll.head\n"
   ]
  },
  {
   "cell_type": "code",
   "execution_count": 26,
   "metadata": {},
   "outputs": [
    {
     "data": {
      "text/plain": [
       "<__main__.LinkedList instance at 0x102e745a8>"
      ]
     },
     "execution_count": 26,
     "metadata": {},
     "output_type": "execute_result"
    }
   ],
   "source": [
    "\n",
    "ll = LinkedList()\n",
    "ll.generate(100, 0, 9)"
   ]
  },
  {
   "cell_type": "code",
   "execution_count": 28,
   "metadata": {},
   "outputs": [
    {
     "name": "stdout",
     "output_type": "stream",
     "text": [
      "0->4->2->1->3->9->8->5->6->7\n"
     ]
    }
   ],
   "source": [
    "print delete(ll)"
   ]
  },
  {
   "cell_type": "code",
   "execution_count": 30,
   "metadata": {},
   "outputs": [
    {
     "name": "stdout",
     "output_type": "stream",
     "text": [
      "9->1->3->3->0->8->5->6->8->2->1->1->4->0->4->6->8->9->4->3->3->2->2->0->0->9->9->7->3->6->1->0->4->6->7->6->8->3->8->7->0->0->7->2->1->6->4->8->6->5->1->8->8->6->6->7->4->7->1->5->0->8->2->9->7->6->3->6->6->5->4->4->8->6->3->1->9->6->1->9->0->6->2->2->9->5->4->3->1->7->1->5->3->5->4->7->7->8->8->9\n",
      "9->1->3->0->8->5->6->2->4->7\n"
     ]
    }
   ],
   "source": [
    "ll.generate(100, 0, 9)\n",
    "print(ll)\n",
    "remove_dups_followup(ll)\n",
    "print(ll)"
   ]
  },
  {
   "cell_type": "code",
   "execution_count": null,
   "metadata": {
    "collapsed": true
   },
   "outputs": [],
   "source": [
    "def hash(value, current):\n",
    "    table = [None] * 100\n",
    "    if table[hash_function(value)] == None:\n",
    "        table[hash_function(value)] = current\n",
    "    else:\n",
    "        LinkedList.delete"
   ]
  },
  {
   "cell_type": "code",
   "execution_count": null,
   "metadata": {
    "collapsed": true
   },
   "outputs": [],
   "source": [
    "def hash_function(value):\n",
    "    key = ord(value) % 7\n",
    "    return key"
   ]
  }
 ],
 "metadata": {
  "kernelspec": {
   "display_name": "Python 2",
   "language": "python",
   "name": "python2"
  },
  "language_info": {
   "codemirror_mode": {
    "name": "ipython",
    "version": 2
   },
   "file_extension": ".py",
   "mimetype": "text/x-python",
   "name": "python",
   "nbconvert_exporter": "python",
   "pygments_lexer": "ipython2",
   "version": "2.7.13"
  }
 },
 "nbformat": 4,
 "nbformat_minor": 2
}
