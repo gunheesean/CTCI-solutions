{
 "cells": [
  {
   "cell_type": "code",
   "execution_count": 61,
   "metadata": {},
   "outputs": [],
   "source": [
    "def solution():\n",
    "    print (\"type first string\")\n",
    "    string1 = raw_input()\n",
    "    print (\"type seconde string\")\n",
    "    string2 = raw_input()\n",
    "    table = [None] * 30\n",
    "    sequence = []\n",
    "    \n",
    "    if (len(string1) > len(string2)):\n",
    "        big_string = string1\n",
    "        small_string = string2\n",
    "    else:\n",
    "        big_string = string2\n",
    "        small_string = string1\n",
    "    \n",
    "    for i in big_string:\n",
    "        pos = hash(i)\n",
    "        table[pos] = i\n",
    "        \n",
    "    for j in small_string:\n",
    "        pos = hash(j)\n",
    "        if table[pos] is not None:\n",
    "            sequence.append(j)\n",
    "        else:\n",
    "            table[value] = j\n",
    "    \n",
    "    return sequence"
   ]
  },
  {
   "cell_type": "code",
   "execution_count": 62,
   "metadata": {
    "collapsed": true
   },
   "outputs": [],
   "source": [
    "def hash(value):\n",
    "    key = ord(value)\n",
    "    key = key % 11\n",
    "    return key"
   ]
  },
  {
   "cell_type": "code",
   "execution_count": 64,
   "metadata": {},
   "outputs": [
    {
     "name": "stdout",
     "output_type": "stream",
     "text": [
      "type first string\n",
      "qwert\n",
      "type seconde string\n",
      "qwer\n"
     ]
    },
    {
     "data": {
      "text/plain": [
       "['q', 'w', 'e', 'r']"
      ]
     },
     "execution_count": 64,
     "metadata": {},
     "output_type": "execute_result"
    }
   ],
   "source": [
    "solution()"
   ]
  },
  {
   "cell_type": "code",
   "execution_count": null,
   "metadata": {
    "collapsed": true
   },
   "outputs": [],
   "source": []
  }
 ],
 "metadata": {
  "kernelspec": {
   "display_name": "Python 2",
   "language": "python",
   "name": "python2"
  },
  "language_info": {
   "codemirror_mode": {
    "name": "ipython",
    "version": 2
   },
   "file_extension": ".py",
   "mimetype": "text/x-python",
   "name": "python",
   "nbconvert_exporter": "python",
   "pygments_lexer": "ipython2",
   "version": "2.7.13"
  }
 },
 "nbformat": 4,
 "nbformat_minor": 2
}
