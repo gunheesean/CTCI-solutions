{
 "cells": [
  {
   "cell_type": "markdown",
   "metadata": {},
   "source": [
    "Question 5.1"
   ]
  },
  {
   "cell_type": "markdown",
   "metadata": {},
   "source": [
    "solution"
   ]
  },
  {
   "cell_type": "code",
   "execution_count": 1,
   "metadata": {
    "collapsed": true
   },
   "outputs": [],
   "source": [
    "def insertBits(M, N, j, i):\n",
    "    # to solve this problem, need to make 0 bits j ~ i.\n",
    "    # use two mask to make 0 from jth position to ith position\n",
    "    \n",
    "    # right side 0\n",
    "    mask_j = ~(-1 >> (31-j))\n",
    "    \n",
    "    # left side 0\n",
    "    mask_i = (-1 >> (31-i))\n",
    "    \n",
    "    # this mask looks like 111000011\n",
    "    final_mask = (mask_j | mask_i)\n",
    "    \n",
    "    # make bits 0 from j to i by AND operation\n",
    "    M = (final_mask & M)\n",
    "    \n",
    "    return (M | N)"
   ]
  },
  {
   "cell_type": "code",
   "execution_count": 2,
   "metadata": {},
   "outputs": [
    {
     "data": {
      "text/plain": [
       "1043"
      ]
     },
     "execution_count": 2,
     "metadata": {},
     "output_type": "execute_result"
    }
   ],
   "source": [
    "insertBits(1024, 19, 6, 2)"
   ]
  }
 ],
 "metadata": {
  "kernelspec": {
   "display_name": "Python 2",
   "language": "python",
   "name": "python2"
  },
  "language_info": {
   "codemirror_mode": {
    "name": "ipython",
    "version": 2
   },
   "file_extension": ".py",
   "mimetype": "text/x-python",
   "name": "python",
   "nbconvert_exporter": "python",
   "pygments_lexer": "ipython2",
   "version": "2.7.13"
  }
 },
 "nbformat": 4,
 "nbformat_minor": 2
}
